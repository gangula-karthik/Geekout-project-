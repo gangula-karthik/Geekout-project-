{
 "cells": [
  {
   "cell_type": "markdown",
   "metadata": {},
   "source": [
    "## importing mediapipe and open cv libraries"
   ]
  },
  {
   "cell_type": "code",
   "execution_count": 8,
   "metadata": {},
   "outputs": [],
   "source": [
    "import mediapipe as mp\n",
    "import cv2\n",
    "import json"
   ]
  },
  {
   "cell_type": "code",
   "execution_count": 9,
   "metadata": {},
   "outputs": [],
   "source": [
    "mp_drawing = mp.solutions.drawing_utils\n",
    "mp_hands = mp.solutions.hands\n",
    "mp_hands = mp.solutions.hands\n",
    "mp_drawing_styles = mp.solutions.drawing_styles"
   ]
  },
  {
   "cell_type": "markdown",
   "metadata": {},
   "source": [
    "# WEBCAM INPUT"
   ]
  },
  {
   "cell_type": "markdown",
   "metadata": {},
   "source": [
    "## writing the coordinate data to a file"
   ]
  },
  {
   "cell_type": "code",
   "execution_count": 10,
   "metadata": {},
   "outputs": [
    {
     "data": {
      "text/plain": [
       "-1"
      ]
     },
     "execution_count": 10,
     "metadata": {},
     "output_type": "execute_result"
    }
   ],
   "source": [
    "cap = cv2.VideoCapture(0)\n",
    "with mp_hands.Hands(\n",
    "    model_complexity=0,\n",
    "    min_detection_confidence=0.5,\n",
    "    min_tracking_confidence=0.5) as hands:\n",
    "  while cap.isOpened():\n",
    "    success, image = cap.read()\n",
    "    if cv2.waitKey(1) & 0xFF == ord('q'):\n",
    "      break\n",
    "\n",
    "    # To improve performance, optionally mark the image as not writeable to\n",
    "    # pass by reference.\n",
    "    image.flags.writeable = False\n",
    "    image = cv2.cvtColor(image, cv2.COLOR_BGR2RGB)\n",
    "    results = hands.process(image)\n",
    "\n",
    "    # Draw the hand annotations on the image.\n",
    "    image.flags.writeable = True\n",
    "    image = cv2.cvtColor(image, cv2.COLOR_RGB2BGR)\n",
    "    \n",
    "    if results.multi_hand_landmarks:\n",
    "      for hand_landmarks in results.multi_hand_landmarks:\n",
    "        mp_drawing.draw_landmarks(\n",
    "            image,\n",
    "            hand_landmarks,\n",
    "            mp_hands.HAND_CONNECTIONS,\n",
    "            mp_drawing_styles.get_default_hand_landmarks_style(),\n",
    "            mp_drawing_styles.get_default_hand_connections_style())\n",
    "    cv2.imshow('MediaPipe Hands', cv2.flip(image, 1))\n",
    "    if cv2.waitKey(5) & 0xFF == 27:\n",
    "      break\n",
    "cap.release()\n",
    "\n",
    "# Closing all the frames and windows \n",
    "cv2.waitKey(0)\n",
    "cv2.destroyAllWindows() \n",
    "cv2.waitKey(1)"
   ]
  },
  {
   "cell_type": "code",
   "execution_count": 11,
   "metadata": {},
   "outputs": [
    {
     "name": "stdout",
     "output_type": "stream",
     "text": [
      "x coordinate\n",
      "[1.89, 4.04, 5.65, 6.66, 7.13, 2.28, 2.02, 1.63, 1.61, 0.24, 0.57, 0.91, 1.11, 1.49, 2.45, 2.75, 2.78, 2.53, 4.26, 5.23, 5.39]\n",
      "y coordinate\n",
      "[8.46, 5.17, 2.4, 0.67, 3.19, 1.1, 4.12, 5.74, 7.38, 0.66, 3.78, 6.12, 7.67, 0.72, 2.32, 4.49, 6.04, 2.41, 0.36, 1.29, 2.48]\n",
      "z coordinate\n",
      "[0.52, 0.04, 0.26, 0.67, 0.17, 0.48, 0.13, 1.13, 3.63, 0.33, 0.13, 1.51, 4.19, 0.22, 0.86, 2.36, 4.16, 1.11, 1.55, 2.72, 3.89]\n"
     ]
    }
   ],
   "source": [
    "if type(results.multi_hand_world_landmarks) == list: \n",
    "  for landmarks in results.multi_hand_world_landmarks:\n",
    "    x = [round(abs(landmark.x)*100,2) for landmark in landmarks.landmark]\n",
    "    y = [round(abs(landmark.y)*100,2) for landmark in landmarks.landmark]\n",
    "    z = [round(abs(landmark.z)*100,2) for landmark in landmarks.landmark]\n",
    "    print(\"x coordinate\")\n",
    "    print(x) \n",
    "    print(\"y coordinate\")\n",
    "    print(y)\n",
    "    print(\"z coordinate\")\n",
    "    print(z)"
   ]
  },
  {
   "cell_type": "code",
   "execution_count": 12,
   "metadata": {},
   "outputs": [
    {
     "name": "stdout",
     "output_type": "stream",
     "text": [
      "average value of the x coordinates:  2.98cm\n",
      "average value of the y coordinates:  3.65cm\n",
      "average value of the z coordinates:  1.43cm\n"
     ]
    }
   ],
   "source": [
    "# printing the average value of the 21 coordinates \n",
    "avg_x = sum(x)/len(x)\n",
    "print(f\"average value of the x coordinates: {avg_x: .2f}cm\")\n",
    "\n",
    "avg_y = sum(y)/len(y)\n",
    "print(f\"average value of the y coordinates: {avg_y: .2f}cm\")\n",
    "\n",
    "avg_z = sum(z)/len(z)\n",
    "print(f\"average value of the z coordinates: {avg_z: .2f}cm\")"
   ]
  },
  {
   "cell_type": "code",
   "execution_count": null,
   "metadata": {},
   "outputs": [],
   "source": []
  }
 ],
 "metadata": {
  "kernelspec": {
   "display_name": "Python 3.9.7 ('base')",
   "language": "python",
   "name": "python3"
  },
  "language_info": {
   "codemirror_mode": {
    "name": "ipython",
    "version": 3
   },
   "file_extension": ".py",
   "mimetype": "text/x-python",
   "name": "python",
   "nbconvert_exporter": "python",
   "pygments_lexer": "ipython3",
   "version": "3.9.7"
  },
  "orig_nbformat": 4,
  "vscode": {
   "interpreter": {
    "hash": "8bf1fe9a3ab8e659e9d2f31b4e1a55b994401df1c01ccad9f8ef69cd47c13f43"
   }
  }
 },
 "nbformat": 4,
 "nbformat_minor": 2
}
