{
 "cells": [
  {
   "cell_type": "markdown",
   "metadata": {},
   "source": [
    "## importing mediapipe and open cv libraries"
   ]
  },
  {
   "cell_type": "code",
   "execution_count": 2,
   "metadata": {},
   "outputs": [],
   "source": [
    "import mediapipe as mp\n",
    "import cv2\n",
    "import json"
   ]
  },
  {
   "cell_type": "code",
   "execution_count": 3,
   "metadata": {},
   "outputs": [],
   "source": [
    "mp_drawing = mp.solutions.drawing_utils\n",
    "mp_hands = mp.solutions.hands\n",
    "mp_hands = mp.solutions.hands\n",
    "mp_drawing_styles = mp.solutions.drawing_styles"
   ]
  },
  {
   "cell_type": "markdown",
   "metadata": {},
   "source": [
    "# WEBCAM INPUT"
   ]
  },
  {
   "cell_type": "markdown",
   "metadata": {},
   "source": [
    "## writing the coordinate data to a file"
   ]
  },
  {
   "cell_type": "code",
   "execution_count": 4,
   "metadata": {},
   "outputs": [
    {
     "name": "stderr",
     "output_type": "stream",
     "text": [
      "INFO: Created TensorFlow Lite XNNPACK delegate for CPU.\n"
     ]
    },
    {
     "data": {
      "text/plain": [
       "-1"
      ]
     },
     "execution_count": 4,
     "metadata": {},
     "output_type": "execute_result"
    }
   ],
   "source": [
    "cap = cv2.VideoCapture(0)\n",
    "with mp_hands.Hands(\n",
    "    model_complexity=0,\n",
    "    min_detection_confidence=0.5,\n",
    "    min_tracking_confidence=0.5) as hands:\n",
    "  while cap.isOpened():\n",
    "    success, image = cap.read()\n",
    "    if cv2.waitKey(1) & 0xFF == ord('q'):\n",
    "      break\n",
    "\n",
    "    # To improve performance, optionally mark the image as not writeable to\n",
    "    # pass by reference.\n",
    "    image.flags.writeable = False\n",
    "    image = cv2.cvtColor(image, cv2.COLOR_BGR2RGB)\n",
    "    results = hands.process(image)\n",
    "\n",
    "    # Draw the hand annotations on the image.\n",
    "    image.flags.writeable = True\n",
    "    image = cv2.cvtColor(image, cv2.COLOR_RGB2BGR)\n",
    "    \n",
    "    if results.multi_hand_landmarks:\n",
    "      for hand_landmarks in results.multi_hand_landmarks:\n",
    "        mp_drawing.draw_landmarks(\n",
    "            image,\n",
    "            hand_landmarks,\n",
    "            mp_hands.HAND_CONNECTIONS,\n",
    "            mp_drawing_styles.get_default_hand_landmarks_style(),\n",
    "            mp_drawing_styles.get_default_hand_connections_style())\n",
    "    cv2.imshow('MediaPipe Hands', cv2.flip(image, 1))\n",
    "    if cv2.waitKey(5) & 0xFF == 27:\n",
    "      break\n",
    "cap.release()\n",
    "\n",
    "# Closing all the frames and windows \n",
    "cv2.waitKey(0)\n",
    "cv2.destroyAllWindows() \n",
    "cv2.waitKey(1)"
   ]
  },
  {
   "cell_type": "code",
   "execution_count": 5,
   "metadata": {},
   "outputs": [
    {
     "name": "stdout",
     "output_type": "stream",
     "text": [
      "x coordinate\n",
      "[2.72, 0.84, 3.21, 5.32, 6.98, 2.69, 3.69, 4.18, 4.82, 0.58, 1.41, 2.21, 3.01, 1.85, 1.24, 0.48, 0.25, 3.86, 4.65, 5.03, 4.88]\n",
      "y coordinate\n",
      "[7.94, 5.86, 3.66, 0.98, 1.1, 0.07, 2.64, 4.5, 6.3, 0.32, 3.27, 5.48, 7.0, 0.05, 2.79, 4.73, 6.39, 0.85, 1.17, 2.68, 3.97]\n",
      "z coordinate\n",
      "[1.01, 0.81, 0.42, 0.21, 0.03, 0.26, 0.14, 0.67, 2.44, 0.13, 0.21, 0.88, 3.03, 0.11, 0.89, 1.9, 3.31, 0.51, 1.13, 1.93, 2.96]\n"
     ]
    }
   ],
   "source": [
    "if type(results.multi_hand_world_landmarks) == list: \n",
    "  for landmarks in results.multi_hand_world_landmarks:\n",
    "    x = [round(abs(landmark.x)*100,2) for landmark in landmarks.landmark]\n",
    "    y = [round(abs(landmark.y)*100,2) for landmark in landmarks.landmark]\n",
    "    z = [round(abs(landmark.z)*100,2) for landmark in landmarks.landmark]\n",
    "    print(\"x coordinate\")\n",
    "    print(x) \n",
    "    print(\"y coordinate\")\n",
    "    print(y)\n",
    "    print(\"z coordinate\")\n",
    "    print(z)"
   ]
  },
  {
   "cell_type": "code",
   "execution_count": 6,
   "metadata": {},
   "outputs": [
    {
     "name": "stdout",
     "output_type": "stream",
     "text": [
      "average value of the x coordinates:  3.04cm\n",
      "average value of the y coordinates:  3.42cm\n",
      "average value of the z coordinates:  1.09cm\n"
     ]
    }
   ],
   "source": [
    "# printing the average value of the 21 coordinates \n",
    "avg_x = sum(x)/len(x)\n",
    "print(f\"average value of the x coordinates: {avg_x: .2f}cm\")\n",
    "\n",
    "avg_y = sum(y)/len(y)\n",
    "print(f\"average value of the y coordinates: {avg_y: .2f}cm\")\n",
    "\n",
    "avg_z = sum(z)/len(z)\n",
    "print(f\"average value of the z coordinates: {avg_z: .2f}cm\")"
   ]
  },
  {
   "cell_type": "code",
   "execution_count": null,
   "metadata": {},
   "outputs": [],
   "source": []
  }
 ],
 "metadata": {
  "kernelspec": {
   "display_name": "Python 3.9.7 ('base')",
   "language": "python",
   "name": "python3"
  },
  "language_info": {
   "codemirror_mode": {
    "name": "ipython",
    "version": 3
   },
   "file_extension": ".py",
   "mimetype": "text/x-python",
   "name": "python",
   "nbconvert_exporter": "python",
   "pygments_lexer": "ipython3",
   "version": "3.9.7"
  },
  "orig_nbformat": 4,
  "vscode": {
   "interpreter": {
    "hash": "8bf1fe9a3ab8e659e9d2f31b4e1a55b994401df1c01ccad9f8ef69cd47c13f43"
   }
  }
 },
 "nbformat": 4,
 "nbformat_minor": 2
}
